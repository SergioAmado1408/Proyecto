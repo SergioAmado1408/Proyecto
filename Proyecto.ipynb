{
  "nbformat": 4,
  "nbformat_minor": 0,
  "metadata": {
    "colab": {
      "provenance": [],
      "authorship_tag": "ABX9TyNAxjDvS4eSXrZ0/pzco6pL",
      "include_colab_link": true
    },
    "kernelspec": {
      "name": "python3",
      "display_name": "Python 3"
    },
    "language_info": {
      "name": "python"
    }
  },
  "cells": [
    {
      "cell_type": "markdown",
      "metadata": {
        "id": "view-in-github",
        "colab_type": "text"
      },
      "source": [
        "<a href=\"https://colab.research.google.com/github/SergioAmado1408/Proyecto/blob/main/Proyecto.ipynb\" target=\"_parent\"><img src=\"https://colab.research.google.com/assets/colab-badge.svg\" alt=\"Open In Colab\"/></a>"
      ]
    },
    {
      "cell_type": "markdown",
      "source": [
        "  Ana Garzon, Sergio Amado"
      ],
      "metadata": {
        "id": "_uR6P5Hs3F9r"
      }
    },
    {
      "cell_type": "code",
      "source": [
        "import pandas as pd\n",
        "import seaborn as sns\n",
        "import matplotlib.pyplot as plt\n",
        "import numpy as np"
      ],
      "metadata": {
        "id": "mae6keI4GhnB"
      },
      "execution_count": null,
      "outputs": []
    },
    {
      "cell_type": "code",
      "source": [
        "data = pd.read_excel('/content/data.xlsx')"
      ],
      "metadata": {
        "id": "Ojj1XOSJHBBs"
      },
      "execution_count": null,
      "outputs": []
    },
    {
      "cell_type": "code",
      "source": [
        "#estadisticas descriptivas\n",
        "xd=pd.DataFrame(data)"
      ],
      "metadata": {
        "id": "lr1iRHPJe86T"
      },
      "execution_count": null,
      "outputs": []
    },
    {
      "cell_type": "code",
      "source": [
        "data.describe()"
      ],
      "metadata": {
        "colab": {
          "base_uri": "https://localhost:8080/",
          "height": 297
        },
        "id": "BeYEpuNITYc7",
        "outputId": "751b1bdc-45d3-4a4d-a6ed-9f305705a545"
      },
      "execution_count": null,
      "outputs": [
        {
          "output_type": "execute_result",
          "data": {
            "text/plain": [
              "          Months  Loss (mean)     Events\n",
              "count  96.000000     96.00000  96.000000\n",
              "mean   48.500000   7594.90625   3.385417\n",
              "std    27.856777   5434.88109   2.657144\n",
              "min     1.000000    158.00000   1.000000\n",
              "25%    24.750000   3086.75000   1.000000\n",
              "50%    48.500000   6662.50000   2.000000\n",
              "75%    72.250000  10941.00000   5.250000\n",
              "max    96.000000  26142.00000   9.000000"
            ],
            "text/html": [
              "\n",
              "  <div id=\"df-95b23eca-9c29-4151-9a6e-298991b2757a\">\n",
              "    <div class=\"colab-df-container\">\n",
              "      <div>\n",
              "<style scoped>\n",
              "    .dataframe tbody tr th:only-of-type {\n",
              "        vertical-align: middle;\n",
              "    }\n",
              "\n",
              "    .dataframe tbody tr th {\n",
              "        vertical-align: top;\n",
              "    }\n",
              "\n",
              "    .dataframe thead th {\n",
              "        text-align: right;\n",
              "    }\n",
              "</style>\n",
              "<table border=\"1\" class=\"dataframe\">\n",
              "  <thead>\n",
              "    <tr style=\"text-align: right;\">\n",
              "      <th></th>\n",
              "      <th>Months</th>\n",
              "      <th>Loss (mean)</th>\n",
              "      <th>Events</th>\n",
              "    </tr>\n",
              "  </thead>\n",
              "  <tbody>\n",
              "    <tr>\n",
              "      <th>count</th>\n",
              "      <td>96.000000</td>\n",
              "      <td>96.00000</td>\n",
              "      <td>96.000000</td>\n",
              "    </tr>\n",
              "    <tr>\n",
              "      <th>mean</th>\n",
              "      <td>48.500000</td>\n",
              "      <td>7594.90625</td>\n",
              "      <td>3.385417</td>\n",
              "    </tr>\n",
              "    <tr>\n",
              "      <th>std</th>\n",
              "      <td>27.856777</td>\n",
              "      <td>5434.88109</td>\n",
              "      <td>2.657144</td>\n",
              "    </tr>\n",
              "    <tr>\n",
              "      <th>min</th>\n",
              "      <td>1.000000</td>\n",
              "      <td>158.00000</td>\n",
              "      <td>1.000000</td>\n",
              "    </tr>\n",
              "    <tr>\n",
              "      <th>25%</th>\n",
              "      <td>24.750000</td>\n",
              "      <td>3086.75000</td>\n",
              "      <td>1.000000</td>\n",
              "    </tr>\n",
              "    <tr>\n",
              "      <th>50%</th>\n",
              "      <td>48.500000</td>\n",
              "      <td>6662.50000</td>\n",
              "      <td>2.000000</td>\n",
              "    </tr>\n",
              "    <tr>\n",
              "      <th>75%</th>\n",
              "      <td>72.250000</td>\n",
              "      <td>10941.00000</td>\n",
              "      <td>5.250000</td>\n",
              "    </tr>\n",
              "    <tr>\n",
              "      <th>max</th>\n",
              "      <td>96.000000</td>\n",
              "      <td>26142.00000</td>\n",
              "      <td>9.000000</td>\n",
              "    </tr>\n",
              "  </tbody>\n",
              "</table>\n",
              "</div>\n",
              "      <button class=\"colab-df-convert\" onclick=\"convertToInteractive('df-95b23eca-9c29-4151-9a6e-298991b2757a')\"\n",
              "              title=\"Convert this dataframe to an interactive table.\"\n",
              "              style=\"display:none;\">\n",
              "        \n",
              "  <svg xmlns=\"http://www.w3.org/2000/svg\" height=\"24px\"viewBox=\"0 0 24 24\"\n",
              "       width=\"24px\">\n",
              "    <path d=\"M0 0h24v24H0V0z\" fill=\"none\"/>\n",
              "    <path d=\"M18.56 5.44l.94 2.06.94-2.06 2.06-.94-2.06-.94-.94-2.06-.94 2.06-2.06.94zm-11 1L8.5 8.5l.94-2.06 2.06-.94-2.06-.94L8.5 2.5l-.94 2.06-2.06.94zm10 10l.94 2.06.94-2.06 2.06-.94-2.06-.94-.94-2.06-.94 2.06-2.06.94z\"/><path d=\"M17.41 7.96l-1.37-1.37c-.4-.4-.92-.59-1.43-.59-.52 0-1.04.2-1.43.59L10.3 9.45l-7.72 7.72c-.78.78-.78 2.05 0 2.83L4 21.41c.39.39.9.59 1.41.59.51 0 1.02-.2 1.41-.59l7.78-7.78 2.81-2.81c.8-.78.8-2.07 0-2.86zM5.41 20L4 18.59l7.72-7.72 1.47 1.35L5.41 20z\"/>\n",
              "  </svg>\n",
              "      </button>\n",
              "      \n",
              "  <style>\n",
              "    .colab-df-container {\n",
              "      display:flex;\n",
              "      flex-wrap:wrap;\n",
              "      gap: 12px;\n",
              "    }\n",
              "\n",
              "    .colab-df-convert {\n",
              "      background-color: #E8F0FE;\n",
              "      border: none;\n",
              "      border-radius: 50%;\n",
              "      cursor: pointer;\n",
              "      display: none;\n",
              "      fill: #1967D2;\n",
              "      height: 32px;\n",
              "      padding: 0 0 0 0;\n",
              "      width: 32px;\n",
              "    }\n",
              "\n",
              "    .colab-df-convert:hover {\n",
              "      background-color: #E2EBFA;\n",
              "      box-shadow: 0px 1px 2px rgba(60, 64, 67, 0.3), 0px 1px 3px 1px rgba(60, 64, 67, 0.15);\n",
              "      fill: #174EA6;\n",
              "    }\n",
              "\n",
              "    [theme=dark] .colab-df-convert {\n",
              "      background-color: #3B4455;\n",
              "      fill: #D2E3FC;\n",
              "    }\n",
              "\n",
              "    [theme=dark] .colab-df-convert:hover {\n",
              "      background-color: #434B5C;\n",
              "      box-shadow: 0px 1px 3px 1px rgba(0, 0, 0, 0.15);\n",
              "      filter: drop-shadow(0px 1px 2px rgba(0, 0, 0, 0.3));\n",
              "      fill: #FFFFFF;\n",
              "    }\n",
              "  </style>\n",
              "\n",
              "      <script>\n",
              "        const buttonEl =\n",
              "          document.querySelector('#df-95b23eca-9c29-4151-9a6e-298991b2757a button.colab-df-convert');\n",
              "        buttonEl.style.display =\n",
              "          google.colab.kernel.accessAllowed ? 'block' : 'none';\n",
              "\n",
              "        async function convertToInteractive(key) {\n",
              "          const element = document.querySelector('#df-95b23eca-9c29-4151-9a6e-298991b2757a');\n",
              "          const dataTable =\n",
              "            await google.colab.kernel.invokeFunction('convertToInteractive',\n",
              "                                                     [key], {});\n",
              "          if (!dataTable) return;\n",
              "\n",
              "          const docLinkHtml = 'Like what you see? Visit the ' +\n",
              "            '<a target=\"_blank\" href=https://colab.research.google.com/notebooks/data_table.ipynb>data table notebook</a>'\n",
              "            + ' to learn more about interactive tables.';\n",
              "          element.innerHTML = '';\n",
              "          dataTable['output_type'] = 'display_data';\n",
              "          await google.colab.output.renderOutput(dataTable, element);\n",
              "          const docLink = document.createElement('div');\n",
              "          docLink.innerHTML = docLinkHtml;\n",
              "          element.appendChild(docLink);\n",
              "        }\n",
              "      </script>\n",
              "    </div>\n",
              "  </div>\n",
              "  "
            ]
          },
          "metadata": {},
          "execution_count": 7
        }
      ]
    },
    {
      "cell_type": "code",
      "source": [
        "Per = data[\"Loss (mean)\"]"
      ],
      "metadata": {
        "id": "7TP-CfMzfPC3"
      },
      "execution_count": null,
      "outputs": []
    },
    {
      "cell_type": "code",
      "source": [
        "# Diagrama de caja, dee perdidas\n",
        "plt.boxplot(Per)\n",
        "plt.ylabel('Valor')\n",
        "plt.title('Diagrama de caja')\n",
        "plt.show()"
      ],
      "metadata": {
        "colab": {
          "base_uri": "https://localhost:8080/",
          "height": 452
        },
        "id": "XnHipmHLfRDP",
        "outputId": "720e80f0-521a-4171-cc4f-4c52dd1d1231"
      },
      "execution_count": null,
      "outputs": [
        {
          "output_type": "display_data",
          "data": {
            "text/plain": [
              "<Figure size 640x480 with 1 Axes>"
            ],
            "image/png": "[encoded data removed]"
          },
          "metadata": {}
        }
      ]
    },
    {
      "cell_type": "code",
      "source": [
        "#histograma de Eventos\n",
        "eventos=xd[\"Events\"]"
      ],
      "metadata": {
        "id": "YewjuO--TsHf"
      },
      "execution_count": null,
      "outputs": []
    },
    {
      "cell_type": "code",
      "source": [
        "plt.hist(eventos, bins=9)\n",
        "plt.xlabel('Events')\n",
        "plt.ylabel('Frequency')\n",
        "plt.show()"
      ],
      "metadata": {
        "colab": {
          "base_uri": "https://localhost:8080/",
          "height": 449
        },
        "id": "mSjHKEtUh1pc",
        "outputId": "bb8b2810-6957-42d1-b136-7b2b22deefe2"
      },
      "execution_count": null,
      "outputs": [
        {
          "output_type": "display_data",
          "data": {
            "text/plain": [
              "<Figure size 640x480 with 1 Axes>"
            ],
            "image/png": "[encoded data removed]"
          },
          "metadata": {}
        }
      ]
    },
    {
      "cell_type": "code",
      "source": [
        "# distribucion continua (perdidas)\n",
        "import scipy.stats as stats"
      ],
      "metadata": {
        "id": "rr3crW30UffM"
      },
      "execution_count": null,
      "outputs": []
    },
    {
      "cell_type": "code",
      "source": [
        "Per"
      ],
      "metadata": {
        "colab": {
          "base_uri": "https://localhost:8080/"
        },
        "id": "n0okhfyiVxnw",
        "outputId": "61c88b87-8ebc-4703-a565-75cde47b4a75"
      },
      "execution_count": null,
      "outputs": [
        {
          "output_type": "execute_result",
          "data": {
            "text/plain": [
              "0       204\n",
              "1     14604\n",
              "2       337\n",
              "3     10923\n",
              "4      7557\n",
              "      ...  \n",
              "91     9451\n",
              "92     6357\n",
              "93     2877\n",
              "94    10633\n",
              "95     5451\n",
              "Name: Loss (mean), Length: 96, dtype: int64"
            ]
          },
          "metadata": {},
          "execution_count": 43
        }
      ]
    },
    {
      "cell_type": "code",
      "source": [
        "dist = stats.norm(Per)\n"
      ],
      "metadata": {
        "id": "DdD6xMhkUfZw"
      },
      "execution_count": null,
      "outputs": []
    },
    {
      "cell_type": "code",
      "source": [
        "print (dist)"
      ],
      "metadata": {
        "colab": {
          "base_uri": "https://localhost:8080/"
        },
        "id": "ipWsT9ZHUfSs",
        "outputId": "470b2bf5-3b39-4d62-b33c-52b365324d3d"
      },
      "execution_count": null,
      "outputs": [
        {
          "output_type": "stream",
          "name": "stdout",
          "text": [
            "<scipy.stats._distn_infrastructure.rv_continuous_frozen object at 0x7f2be7380520>\n"
          ]
        }
      ]
    },
    {
      "cell_type": "code",
      "source": [
        "sns.distplot( Per, hist=True, kde=True, \n",
        "             bins=int(180/5), color = 'darkblue', \n",
        "             hist_kws={'edgecolor':'black'},\n",
        "             kde_kws={'linewidth': 4})\n",
        "plt.show();"
      ],
      "metadata": {
        "colab": {
          "base_uri": "https://localhost:8080/",
          "height": 638
        },
        "id": "Z6RC4ziOZW6T",
        "outputId": "f4daebbb-bdf8-4d27-f4b0-b03bb611be0e"
      },
      "execution_count": null,
      "outputs": [
        {
          "output_type": "stream",
          "name": "stderr",
          "text": [
            "<ipython-input-45-99a00a949691>:1: UserWarning: \n",
            "\n",
            "`distplot` is a deprecated function and will be removed in seaborn v0.14.0.\n",
            "\n",
            "Please adapt your code to use either `displot` (a figure-level function with\n",
            "similar flexibility) or `histplot` (an axes-level function for histograms).\n",
            "\n",
            "For a guide to updating your code to use the new functions, please see\n",
            "https://gist.github.com/mwaskom/de44147ed2974457ad6372750bbe5751\n",
            "\n",
            "  sns.distplot( Per, hist=True, kde=True,\n"
          ]
        },
        {
          "output_type": "display_data",
          "data": {
            "text/plain": [
              "<Figure size 640x480 with 1 Axes>"
            ],
            "image/png": "[encoded data removed]"
          },
          "metadata": {}
        }
      ]
    },
    {
      "cell_type": "code",
      "source": [
        "#distribucion discreta eventos\n",
        "eventos"
      ],
      "metadata": {
        "id": "hnAp6H82WZg0",
        "colab": {
          "base_uri": "https://localhost:8080/"
        },
        "outputId": "8bcac9e9-b6ef-4afe-f590-90d0e7326b70"
      },
      "execution_count": null,
      "outputs": [
        {
          "output_type": "execute_result",
          "data": {
            "text/plain": [
              "0     2\n",
              "1     1\n",
              "2     3\n",
              "3     1\n",
              "4     7\n",
              "     ..\n",
              "91    9\n",
              "92    6\n",
              "93    2\n",
              "94    1\n",
              "95    5\n",
              "Name: Events, Length: 96, dtype: int64"
            ]
          },
          "metadata": {},
          "execution_count": 17
        }
      ]
    },
    {
      "cell_type": "code",
      "source": [
        "frecuencies=eventos.value_counts()\n",
        "probabilities = frecuencies / len(data)\n",
        "table = pd.DataFrame({'Valores': frecuencies.index, 'Frecuencias': frecuencies.values, 'Probabilidades': probabilities.values})\n",
        "\n",
        "print(table)"
      ],
      "metadata": {
        "colab": {
          "base_uri": "https://localhost:8080/"
        },
        "id": "fqoFVncEfUC0",
        "outputId": "50b0ca5a-7848-4d43-e71b-de141cf2eeb1"
      },
      "execution_count": null,
      "outputs": [
        {
          "output_type": "stream",
          "name": "stdout",
          "text": [
            "   Valores  Frecuencias  Probabilidades\n",
            "0        1           37        0.385417\n",
            "1        2           14        0.145833\n",
            "2        8            9        0.093750\n",
            "3        3            8        0.083333\n",
            "4        6            8        0.083333\n",
            "5        5            7        0.072917\n",
            "6        4            6        0.062500\n",
            "7        9            4        0.041667\n",
            "8        7            3        0.031250\n"
          ]
        }
      ]
    },
    {
      "cell_type": "code",
      "source": [
        "#Analisis\n",
        "import random"
      ],
      "metadata": {
        "id": "A-a_NtGYk3qa"
      },
      "execution_count": null,
      "outputs": []
    },
    {
      "cell_type": "code",
      "source": [
        "months = 96"
      ],
      "metadata": {
        "id": "uskvWd1qFV9w"
      },
      "execution_count": null,
      "outputs": []
    },
    {
      "cell_type": "code",
      "source": [
        "losses = np.zeros(1000)"
      ],
      "metadata": {
        "id": "EcosnIOGFcol"
      },
      "execution_count": null,
      "outputs": []
    },
    {
      "cell_type": "code",
      "source": [
        "for i in range(1000):\n",
        "    loss_total = 0\n",
        "    for month in range(months):\n",
        "        # Generar un valor aleatorio para la cantidad de eventos en el mes\n",
        "        events = np.random.poisson(data[\"Events\"][month])\n",
        "        # Generar un valor aleatorio para la pérdida en el mes\n",
        "        loss = np.random.normal(data[\"Loss (mean)\"][month], data[\"Loss (mean)\"][month]/2)\n",
        "        # Calcular la pérdida total en el mes\n",
        "        month_loss_total = events * loss\n",
        "        # Agregar la pérdida total del mes a la pérdida total acumulada\n",
        "        loss_total += month_loss_total\n",
        "    # Guardar la pérdida total simulada\n",
        "    losses[i] = loss_total"
      ],
      "metadata": {
        "id": "l_bnr7tUHGa2"
      },
      "execution_count": null,
      "outputs": []
    },
    {
      "cell_type": "code",
      "source": [
        "print(\"Estadísticas de pérdida total simulada:\")\n",
        "print(\"Valor mínimo: \", np.min(losses))\n",
        "print(\"Valor máximo: \", np.max(losses))\n",
        "print(\"Promedio: \", np.mean(losses))\n",
        "print(\"Desviación estándar: \", np.std(losses))"
      ],
      "metadata": {
        "colab": {
          "base_uri": "https://localhost:8080/"
        },
        "id": "dxVt2gOzJ7DF",
        "outputId": "b82df98d-0c8f-4a2c-c984-9bd15685cd09"
      },
      "execution_count": null,
      "outputs": [
        {
          "output_type": "stream",
          "name": "stdout",
          "text": [
            "Estadísticas de pérdida total simulada:\n",
            "Valor mínimo:  1624859.8880215804\n",
            "Valor máximo:  2942531.938330704\n",
            "Promedio:  2226662.4701937577\n",
            "Desviación estándar:  224702.45261884286\n"
          ]
        }
      ]
    },
    {
      "cell_type": "code",
      "source": [
        "# graficas ejemplificando los resultados obtenidos\n",
        "from scipy.stats import gaussian_kde\n",
        "\n",
        "density = gaussian_kde(losses)\n",
        "xs = np.linspace(min(losses), max(losses), 200)\n",
        "plt.plot(xs, density(xs))\n",
        "plt.xlabel('Loss')\n",
        "plt.ylabel('Density')\n",
        "plt.show()\n"
      ],
      "metadata": {
        "colab": {
          "base_uri": "https://localhost:8080/",
          "height": 465
        },
        "id": "yRazMvYQOeiM",
        "outputId": "dce6957e-da57-4c9f-d125-6b34d4e29334"
      },
      "execution_count": null,
      "outputs": [
        {
          "output_type": "display_data",
          "data": {
            "text/plain": [
              "<Figure size 640x480 with 1 Axes>"
            ],
            "image/png": "[encoded data removed]"
          },
          "metadata": {}
        }
      ]
    },
    {
      "cell_type": "code",
      "source": [
        "plt.hist(losses, bins=50)\n",
        "plt.xlabel('Loss')\n",
        "plt.ylabel('Frequency')\n",
        "plt.show()\n"
      ],
      "metadata": {
        "colab": {
          "base_uri": "https://localhost:8080/",
          "height": 449
        },
        "id": "HL282-LZNYZ6",
        "outputId": "1da8aef3-3648-4d81-f9b3-e9d37878d525"
      },
      "execution_count": null,
      "outputs": [
        {
          "output_type": "display_data",
          "data": {
            "text/plain": [
              "<Figure size 640x480 with 1 Axes>"
            ],
            "image/png": "[encoded data removed]"
          },
          "metadata": {}
        }
      ]
    },
    {
      "cell_type": "code",
      "source": [
        "# Calcular matriz de correlación y asemejarla con los datos obtenidos\n",
        "corr_matrix = data.corr()"
      ],
      "metadata": {
        "id": "WAm7DTFRUf35"
      },
      "execution_count": null,
      "outputs": []
    },
    {
      "cell_type": "code",
      "source": [
        "print(corr_matrix)"
      ],
      "metadata": {
        "colab": {
          "base_uri": "https://localhost:8080/"
        },
        "id": "QHTXV4uJUwRB",
        "outputId": "9a0f3845-d785-4908-b8e1-bb5ce30dc9bf"
      },
      "execution_count": null,
      "outputs": [
        {
          "output_type": "stream",
          "name": "stdout",
          "text": [
            "               Months  Loss (mean)    Events\n",
            "Months       1.000000    -0.022977 -0.104027\n",
            "Loss (mean) -0.022977     1.000000 -0.175386\n",
            "Events      -0.104027    -0.175386  1.000000\n"
          ]
        }
      ]
    },
    {
      "cell_type": "markdown",
      "source": [
        "Informe:\n",
        "\n",
        "El problema escogido es la detección de fallos operativos de una empresa. En la actualidad, las empresas buscan una herramienta efectiva para detectar en qué medida afectan ciertos fallos que la misma podría tener. En el proyecto se muestra una base de datos en el que se describen los meses, el valor de las perdidas en el mes y la cantidad de eventos que generan esa perdida en esta periodicidad, en este caso la perdida está relacionada directamente con los eventos; es decir, cada perdida que se genera en el mes es el resultado de cierto número de eventos. Ahora bien, para comenzar a entender el modelo utilizamos distintas estadísticas descriptivas como lo son la media, la desviación estándar, mínimos y máximos, y los distintos percentiles, lo que nos permite tener un acercamiento a las variables y ver donde se concentran estas en su generalidad, además de ver los mínimos y máximos, que nos permiten plasmar los límites que tienen el proyecto. Enseguida a esto, plasmamos un gráfico de cajas sobre las perdidas, evidenciando que la mayoría de los datos se concentran alrededor de los 5.000. De la misma manera se realizó lo mismo con la variable de eventos, pero esta vez con un histograma, lo que nos mostró que la mayoría de la muestra se ubica en el evento 1, lo que ayuda a entender mejor el panorama de la influencia que tiene cada cantidad de eventos. Ahora bien, para adentrarnos un poco más en el proyecto, realizamos una distribución continua en la variable de las perdidas, lo que nos permitió más adelante en la representación del modelo Montecarlo; modelar la incertidumbre y la variabilidad de las pérdidas de una manera realista y flexible. De la misma manera, para entender la variable de Eventos, implementamos el uso de una distribución discreta, lo que nos da un panorama del valor más común, además de la frecuencia con el que se presenta y finalmente la probabilidad que tiene ese dato en presentarse sobre los demás. Por otro lado, a la hora de desarrollar el modelo Montecarlo,  que se realizó para 1000 iteraciones, donde se generan variables aleatorias sobre X y Y ; las cuales son los Eventos y las Perdidas. De esto se  puede concluir lo siguiente:\n",
        "\n",
        "-\tLa pérdida total simulada tiene un rango un tanto amplio, desde un mínimo de 1.624.859 hasta un máximo de 2.942.531 lo que indica que hay una alta variabilidad.\n",
        "\n",
        "-\tEl promedio de la pérdida total simulada es de 2.226.662 lo que sugiere que, en promedio, la empresa puede esperar incurrir en una pérdida de esta magnitud en un mes determinado.\n",
        "\n",
        "-\tLa desviación estándar de la pérdida total simulada es de 224.702, lo que indica que hay una gran dispersión de los resultados del modelo alrededor de la media. Es decir, la empresa debe estar preparada para enfrentar una pérdida que puede estar  por encima o por debajo del promedio.\n",
        "\n",
        "Por otro lado, a través del resultado se pueden implementar gráficos, como el histograma; donde se observa que la distribución parece ser sesgada hacia la derecha, con un sesgo positivo , lo que significa que las perdidas tienden a estar más cerca del extremo superior de la distribución.\n",
        "\n",
        "En conclusión, a través de la modelación de la base de datos, se  obtienen resultados que logran de ser de suma importancia para las empresas, porque a través de este pueden ver donde se ubican dentro del modelo, y así mismo saber cómo se encuentra su situación actual, lo que le permitiría tomar las acciones pertinentes para mejorar con respecto al futuro de la empresa. \n",
        "\n",
        "\n",
        "\n",
        "\n",
        "\n",
        "\n",
        "\n"
      ],
      "metadata": {
        "id": "6ugi22cq4yp6"
      }
    }
  ]
}